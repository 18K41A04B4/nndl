{
  "nbformat": 4,
  "nbformat_minor": 0,
  "metadata": {
    "colab": {
      "name": "Assignment 3",
      "provenance": [],
      "authorship_tag": "ABX9TyOCLh+kre/iolIBmz7AsRyd",
      "include_colab_link": true
    },
    "kernelspec": {
      "name": "python3",
      "display_name": "Python 3"
    },
    "language_info": {
      "name": "python"
    }
  },
  "cells": [
    {
      "cell_type": "markdown",
      "metadata": {
        "id": "view-in-github",
        "colab_type": "text"
      },
      "source": [
        "<a href=\"https://colab.research.google.com/github/18K41A04B4/nndl/blob/master/Assignment_3.ipynb\" target=\"_parent\"><img src=\"https://colab.research.google.com/assets/colab-badge.svg\" alt=\"Open In Colab\"/></a>"
      ]
    },
    {
      "cell_type": "markdown",
      "metadata": {
        "id": "z0lcbFtIL7Yt"
      },
      "source": [
        ""
      ]
    },
    {
      "cell_type": "code",
      "metadata": {
        "colab": {
          "base_uri": "https://localhost:8080/"
        },
        "id": "kSm6Nk_MLTG1",
        "outputId": "012b5cd2-66b6-4076-cf79-d5f852d096c0"
      },
      "source": [
        "#Assignement 3\n",
        "#STOCHASTIC GRADIENT DESCENT\n",
        "\n",
        "x=[0.2,0.4,0.6,0.8]\n",
        "y=[3.4,3.8,4.2,4.6]\n",
        "\n",
        "#1\n",
        "m=1\n",
        "c=1\n",
        "n=-0.1\n",
        "epochs=2\n",
        "ns=2\n",
        "#2\n",
        "it=0\n",
        "for i in range(0,epochs,1):\n",
        "    j=0\n",
        "    for j in range(0,ns,1):\n",
        "        dem=(-1)*((y[j]-m*x[j]-c)*x[j])\n",
        "        dec=(-1)*(y[j]-m*x[j]-c)\n",
        "        dm=(-1)*n*dem\n",
        "        dc=(-1)*n*dec\n",
        "        m=m+dm\n",
        "        c=c+dc\n",
        "        #print(m,c,x[j],y[j],'dem =',dem,dec,dm,dc,m,c)\n",
        "print(\"m =\",m,'c=',c)"
      ],
      "execution_count": 1,
      "outputs": [
        {
          "output_type": "stream",
          "text": [
            "m = 0.6667573053439999 c= -0.07878977663999992\n"
          ],
          "name": "stdout"
        }
      ]
    },
    {
      "cell_type": "code",
      "metadata": {
        "colab": {
          "base_uri": "https://localhost:8080/"
        },
        "id": "1L3oRrywOYTy",
        "outputId": "0cfb91cf-adaa-4935-89ad-cd1771cab269"
      },
      "source": [
        "yp=0\n",
        "s=0\n",
        "for i in range(0,ns,1):\n",
        "    yp=y[i]-m*x[i]+c  #calculating 'yp' value for each sample\n",
        "    s=s+(y[i]-yp)**2  #summing them up to calculate MSE\n",
        "s=s/ns\n",
        "print(\"MSE :\",s)"
      ],
      "execution_count": 3,
      "outputs": [
        {
          "output_type": "stream",
          "text": [
            "MSE : 0.08218455482262542\n"
          ],
          "name": "stdout"
        }
      ]
    }
  ]
}